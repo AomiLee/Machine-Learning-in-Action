{
 "cells": [
  {
   "cell_type": "markdown",
   "metadata": {},
   "source": [
    "# 把txt文件转化为特征值矩阵加分类矩阵"
   ]
  },
  {
   "cell_type": "code",
   "execution_count": 1,
   "metadata": {},
   "outputs": [],
   "source": [
    "import numpy as np\n",
    "import operator\n",
    "# import pandas as pd"
   ]
  },
  {
   "cell_type": "code",
   "execution_count": 4,
   "metadata": {},
   "outputs": [
    {
     "data": {
      "text/html": [
       "<div>\n",
       "<style scoped>\n",
       "    .dataframe tbody tr th:only-of-type {\n",
       "        vertical-align: middle;\n",
       "    }\n",
       "\n",
       "    .dataframe tbody tr th {\n",
       "        vertical-align: top;\n",
       "    }\n",
       "\n",
       "    .dataframe thead th {\n",
       "        text-align: right;\n",
       "    }\n",
       "</style>\n",
       "<table border=\"1\" class=\"dataframe\">\n",
       "  <thead>\n",
       "    <tr style=\"text-align: right;\">\n",
       "      <th></th>\n",
       "      <th>0</th>\n",
       "    </tr>\n",
       "  </thead>\n",
       "  <tbody>\n",
       "    <tr>\n",
       "      <th>0</th>\n",
       "      <td>40920\\t8.326976\\t0.953952\\tlargeDoses</td>\n",
       "    </tr>\n",
       "    <tr>\n",
       "      <th>1</th>\n",
       "      <td>14488\\t7.153469\\t1.673904\\tsmallDoses</td>\n",
       "    </tr>\n",
       "    <tr>\n",
       "      <th>2</th>\n",
       "      <td>26052\\t1.441871\\t0.805124\\tdidntLike</td>\n",
       "    </tr>\n",
       "    <tr>\n",
       "      <th>3</th>\n",
       "      <td>75136\\t13.147394\\t0.428964\\tdidntLike</td>\n",
       "    </tr>\n",
       "    <tr>\n",
       "      <th>4</th>\n",
       "      <td>38344\\t1.669788\\t0.134296\\tdidntLike</td>\n",
       "    </tr>\n",
       "  </tbody>\n",
       "</table>\n",
       "</div>"
      ],
      "text/plain": [
       "                                       0\n",
       "0  40920\\t8.326976\\t0.953952\\tlargeDoses\n",
       "1  14488\\t7.153469\\t1.673904\\tsmallDoses\n",
       "2   26052\\t1.441871\\t0.805124\\tdidntLike\n",
       "3  75136\\t13.147394\\t0.428964\\tdidntLike\n",
       "4   38344\\t1.669788\\t0.134296\\tdidntLike"
      ]
     },
     "execution_count": 4,
     "metadata": {},
     "output_type": "execute_result"
    }
   ],
   "source": [
    "#观察数据结构\n",
    "# data = pd.read_csv('datingTestSet.txt',header = None)\n",
    "# data.head(5)"
   ]
  },
  {
   "cell_type": "code",
   "execution_count": null,
   "metadata": {},
   "outputs": [],
   "source": [
    "def filematrix(filename):\n",
    "    love_dictionary = {'largeDoses':3,'smallDoses':2,'didntLike':1}\n",
    "    #定义1,2,3种分类的标签\n",
    "    fr = open(filename)\n",
    "    arrayLines = fr.readlines()\n",
    "    #一次读取整个文本数据，并且自动将文件内容分析成一个行的列表，\n",
    "    number_of_lines = len(arrayLines)#得到字符串列表的个数，也就是行数\n",
    "    returnMat = np.zeros((number_of_lines,3))#准备特征矩阵\n",
    "    classLabelVector = []#准备分类值返回矩阵\n",
    "    index = 0\n",
    "    for line in arrayLines:\n",
    "        line = line.strip()#去掉首尾的空格\n",
    "        listFromLine = line.split('\\t')\n",
    "        #矩阵中，每遇到一个'\\t',便依次将这一部分赋给列表中一个元素，返回值为列表 \n",
    "        returnMat[index,:] = listFromLine[0:3]\n",
    "        #将每一行的前三个元素依次赋值给特征矩阵\n",
    "        if(listFromLine[-1].isdigit()):\n",
    "            classLabelVector.append(int(listFromLine[-1]))\n",
    "        else:\n",
    "            classLabelVector.append(love_dictionary.get(listFromLine[-1]))\n",
    "        #对于每一行最后一列，按照其值得不同，给分类值返回矩阵赋值,具体逻辑见test\n",
    "        index += 1\n",
    "        #每执行一次，便向下一行再循环\n",
    "    return returnMat,classLabelVector\n",
    "    #returnMat：三个特征组成的特征的矩阵\n",
    "    #classLabelVector：分类矩阵 "
   ]
  },
  {
   "cell_type": "markdown",
   "metadata": {},
   "source": [
    "# API\n",
    "readlines()  \n",
    "参考：https://www.cnblogs.com/xiugeng/p/8635862.html\n",
    "\n",
    "strip()  \n",
    "参考：https://www.cnblogs.com/itdyb/p/5046472.html\n",
    "\n",
    "split()  \n",
    "参考：https://www.cnblogs.com/huchong/p/7349886.html\n",
    "\n",
    "get()  \n",
    "参考：http://www.runoob.com/python3/python3-att-dictionary-get.html\n",
    "\n",
    "isdigit()  \n",
    "参考：http://www.runoob.com/python3/python3-string-isdigit.html"
   ]
  },
  {
   "cell_type": "code",
   "execution_count": null,
   "metadata": {},
   "outputs": [],
   "source": []
  }
 ],
 "metadata": {
  "kernelspec": {
   "display_name": "Python 3",
   "language": "python",
   "name": "python3"
  },
  "language_info": {
   "codemirror_mode": {
    "name": "ipython",
    "version": 3
   },
   "file_extension": ".py",
   "mimetype": "text/x-python",
   "name": "python",
   "nbconvert_exporter": "python",
   "pygments_lexer": "ipython3",
   "version": "3.7.0"
  }
 },
 "nbformat": 4,
 "nbformat_minor": 2
}
