{
 "cells": [
  {
   "cell_type": "markdown",
   "metadata": {},
   "source": [
    "# KNN: k Nearest Neighbors\n",
    "Input:      \n",
    "inX: vector to compare to existing dataset (1xN)  \n",
    "inX:测试集\n",
    "\n",
    "dataSet: size m data set of known vectors (NxM)  \n",
    "dataSet：特征值矩阵\n",
    "\n",
    "labels: data set labels (1xM vector)  \n",
    "labels：已知数据分类\n",
    "\n",
    "dataSet+labels = 训练集\n",
    "\n",
    "k: number of neighbors to use for comparison (should be an odd number)  \n",
    "\n",
    "Output:       \n",
    "the most popular class label\n",
    "Output：数量最多的分类\n",
    "\n",
    "inX是你要输入的要分类的“坐标”，dataSet是上面createDataSet的array，就是已经有的，分类过的坐标，label是相应分类的标签，k是KNN，k近邻里面的k"
   ]
  },
  {
   "cell_type": "code",
   "execution_count": null,
   "metadata": {},
   "outputs": [],
   "source": [
    "import numpy as np\n",
    "import operator\n",
    "from os import listdir"
   ]
  },
  {
   "cell_type": "code",
   "execution_count": null,
   "metadata": {},
   "outputs": [],
   "source": [
    "#定义分类器\n",
    "def classify(inX,dataSet,labels,k):\n",
    "    dataSetSize = dataSet.shape[0] #dataSetSize是sataSet的行数\n",
    "    diffMat = np.tile(inX,(dataSetSize,1))-dataSet#(x11-x12)，(x21-x22)\n",
    "    #tile是用来复制数组的函数，用来复制inX，reps如果是（n,1）表示把整个数组复制n次,reps如果是数字n，表示数组的每个元素复制n次\n",
    "    sqDiffMat = diffMat**2#(xi1-xi2)^2\n",
    "    sqDistances = sqDiffMat.sum(axis=1)#axis=1是列相加，，这样得到了(x1-x2)^2+(x21-x22)^2\n",
    "    distances = sqDistances**0.5\n",
    "    sortedDisIndicies = distances.argsort()#argsort是排序，将元素按照由小到大的顺序返回下标，比如([3,1,2]),它返回的就是([1,2,0])\n",
    "    \n",
    "    classCount = {}\n",
    "    for i in range(k):\n",
    "        voteIlabel = labels[sortedDisIndicies[i]]\n",
    "        #得到sortedDisIndicies里第i个元素的标签\n",
    "        classCount[voteIlabel] = classCount.get(voteIlabel,0)+1\n",
    "        #get是取字典里的元素，如果之前这个voteIlabel是有的，那么就返回字典里这个voteIlabel里的值，如果没有就返回0（后面的参数），\n",
    "        #这行代码的意思就是算离目标点距离最近的k个点的类别，这个点是哪个类别哪个类别就加1\n",
    "    sortedClassCount = sorted(classCount.items(),key = operator.itemgetter(1),reverse = True)\n",
    "    #classCount.items()表示将classCount字典分解为元祖列表\n",
    "    #key=operator.itemgetter(1)的意思是按照字典里的第一个排序，{A:1,B:2},要按照第1个（AB是第0个），即‘1’‘2’排序。\n",
    "    #reverse=True是降序排序\n",
    "    return sortedClassCount[0][0]#返回类别最多的类别    \n",
    "    "
   ]
  },
  {
   "cell_type": "markdown",
   "metadata": {},
   "source": [
    "# API\n",
    "\n",
    "numpy.tile(A, reps) \n",
    "功能:将矩阵A看成一个整体， 按照reps的方式复制 \n",
    "参数:A：输入矩阵; reps:每个坐标重复的次数 \n",
    "返回值:输出矩阵\n",
    "\n",
    "array.shape[0]表示查看数组的行数  \n",
    "array.shape[1]表示查看数组的列数\n",
    "\n",
    "operator模块  \n",
    "参考https://blog.csdn.net/shengmingqijiquan/article/details/53005129\n",
    "\n",
    "key=operator.itemgetter(k)  \n",
    "参考http://www.cnblogs.com/zhoufankui/p/6274172.html\n"
   ]
  },
  {
   "cell_type": "code",
   "execution_count": null,
   "metadata": {},
   "outputs": [],
   "source": []
  }
 ],
 "metadata": {
  "kernelspec": {
   "display_name": "Python 3",
   "language": "python",
   "name": "python3"
  },
  "language_info": {
   "codemirror_mode": {
    "name": "ipython",
    "version": 3
   },
   "file_extension": ".py",
   "mimetype": "text/x-python",
   "name": "python",
   "nbconvert_exporter": "python",
   "pygments_lexer": "ipython3",
   "version": "3.7.0"
  }
 },
 "nbformat": 4,
 "nbformat_minor": 2
}
